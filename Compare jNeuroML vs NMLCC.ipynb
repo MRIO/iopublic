{
 "cells": [
  {
   "cell_type": "markdown",
   "id": "e3f8e936",
   "metadata": {},
   "source": [
    "## Setup\n",
    "\n",
    "Edit `ARBOR_LOCATION` and `ARBOR_BUILD_CATALOGUE` to match the right `__init__.py` file and `arbor-build-catalogue` binary. (or delete the entire setup thing)"
   ]
  },
  {
   "cell_type": "code",
   "execution_count": null,
   "id": "acf301f1",
   "metadata": {},
   "outputs": [],
   "source": [
    "import time\n",
    "import sys\n",
    "\n",
    "# BEGIN SET UP ARBOR PATH\n",
    "import importlib\n",
    "ARBOR_LOCATION = '/specialhome/lennart/Repos/arbor-sim/arbor/build/python/arbor/__init__.py'\n",
    "spec = importlib.util.spec_from_file_location('arbor', ARBOR_LOCATION)\n",
    "module = importlib.util.module_from_spec(spec)\n",
    "sys.modules[spec.name] = module\n",
    "spec.loader.exec_module(module)\n",
    "# END SET UP ARBOR PATH\n",
    "\n",
    "import iopublic\n",
    "import numpy as np\n",
    "import matplotlib.pyplot as plt\n",
    "iopublic.ARBOR_BUILD_CATALOGUE = '/specialhome/lennart/Repos/arbor-sim/arbor/build/arbor-build-catalogue'"
   ]
  },
  {
   "cell_type": "code",
   "execution_count": null,
   "id": "1ffb3074",
   "metadata": {},
   "outputs": [],
   "source": [
    "selected = '2021-12-08-shadow_averages_0.01_0.8_d1666304-c6fc-4346-a55d-a99b3aad55be'"
   ]
  },
  {
   "cell_type": "markdown",
   "id": "abc61a55",
   "metadata": {},
   "source": [
    "## Simple comparison\n",
    "\n",
    "To recompile mechanism libraries and test simple behaviour, run cells below"
   ]
  },
  {
   "cell_type": "code",
   "execution_count": null,
   "id": "026f803f",
   "metadata": {},
   "outputs": [],
   "source": [
    "%%time\n",
    "iopublic.SMOL_MODEL_DIR = 'smol_model'\n",
    "t, vs1 = iopublic.simulate_tuned_network(selected, tfinal=100)"
   ]
  },
  {
   "cell_type": "code",
   "execution_count": null,
   "id": "69f7c437",
   "metadata": {},
   "outputs": [],
   "source": [
    "%%time\n",
    "iopublic.SMOL_MODEL_DIR = 'smol_model_nmlcc'\n",
    "t, vs2 = iopublic.simulate_tuned_network(selected, tfinal=100)"
   ]
  },
  {
   "cell_type": "code",
   "execution_count": null,
   "id": "0b6de669",
   "metadata": {},
   "outputs": [],
   "source": [
    "for i in range(0, 500, 50):\n",
    "    plt.plot(t, vs1[i], color='k', label='jneuroml' if i == 0 else None)\n",
    "    plt.plot(t, vs2[i], '--', color='k', label='nmlcc' if i == 0 else None)\n",
    "plt.xlabel('time (ms)')\n",
    "plt.ylabel('soma potential (mV)')\n",
    "plt.legend()"
   ]
  },
  {
   "cell_type": "markdown",
   "id": "6fcc8f0f",
   "metadata": {},
   "source": [
    "## Plot timings"
   ]
  },
  {
   "cell_type": "code",
   "execution_count": null,
   "id": "b19c84fb",
   "metadata": {},
   "outputs": [],
   "source": [
    "out = []\n",
    "for tfinal in range(0, 400, 100):\n",
    "    iopublic.SMOL_MODEL_DIR = 'smol_model'\n",
    "    a = time.monotonic()\n",
    "    t1, vs1 = iopublic.simulate_tuned_network(selected, tfinal=tfinal)\n",
    "    b = time.monotonic()\n",
    "    iopublic.SMOL_MODEL_DIR = 'smol_model_nmlcc'\n",
    "    c = time.monotonic()\n",
    "    t2, vs2 = iopublic.simulate_tuned_network(selected, tfinal=tfinal)\n",
    "    d = time.monotonic()\n",
    "    out.append((tfinal, t1, vs1, t2, vs2, b - a, d - c))\n",
    "    print(tfinal, b - a, d - c)"
   ]
  },
  {
   "cell_type": "code",
   "execution_count": null,
   "id": "0c5f503f",
   "metadata": {},
   "outputs": [],
   "source": [
    "tf, t1, t2 = np.array([(x[0], x[5], x[6]) for x in out]).T\n",
    "plt.plot(tf, t1, 'o--', label='jneuroml+manual editing')\n",
    "plt.plot(tf, t2, 'o--', label='nmlcc')\n",
    "plt.legend()\n",
    "plt.title('Full IO network simulation')\n",
    "plt.xlabel('Biological time (ms)')\n",
    "plt.ylabel('Simulation time (s)')\n",
    "plt.ylim(0, plt.ylim()[1])"
   ]
  },
  {
   "cell_type": "code",
   "execution_count": null,
   "id": "59f26743",
   "metadata": {},
   "outputs": [],
   "source": []
  }
 ],
 "metadata": {
  "kernelspec": {
   "display_name": "Python 3 (ipykernel)",
   "language": "python",
   "name": "python3"
  },
  "language_info": {
   "codemirror_mode": {
    "name": "ipython",
    "version": 3
   },
   "file_extension": ".py",
   "mimetype": "text/x-python",
   "name": "python",
   "nbconvert_exporter": "python",
   "pygments_lexer": "ipython3",
   "version": "3.8.10"
  }
 },
 "nbformat": 4,
 "nbformat_minor": 5
}
