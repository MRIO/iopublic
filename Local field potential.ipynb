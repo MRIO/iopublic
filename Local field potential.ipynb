{
 "cells": [
  {
   "cell_type": "code",
   "execution_count": 1,
   "id": "c1281f5a",
   "metadata": {},
   "outputs": [],
   "source": [
    "#!pip3 install lfpykit"
   ]
  },
  {
   "cell_type": "code",
   "execution_count": 2,
   "id": "89ed09f3",
   "metadata": {},
   "outputs": [],
   "source": [
    "%matplotlib inline\n",
    "\n",
    "# if you want a specific arbor load location after a custom cmake build\n",
    "# from https://stackoverflow.com/questions/67631/how-to-import-a-module-given-the-full-path\n",
    "import sys\n",
    "import importlib\n",
    "ARBOR_LOCATION = '/specialhome/lennart/Repos/arbor-sim/arbor/build/python/arbor/__init__.py'\n",
    "spec = importlib.util.spec_from_file_location('arbor', ARBOR_LOCATION)\n",
    "module = importlib.util.module_from_spec(spec)\n",
    "sys.modules[spec.name] = module\n",
    "spec.loader.exec_module(module)\n",
    "\n",
    "import random\n",
    "import numpy as np\n",
    "import matplotlib.pyplot as plt\n",
    "\n",
    "import lfpykit\n",
    "import arbor\n",
    "\n",
    "import iopublic\n",
    "iopublic.ARBOR_BUILD_CATALOGUE = '/specialhome/lennart/Repos/arbor-sim/arbor/build/arbor-build-catalogue'"
   ]
  },
  {
   "cell_type": "code",
   "execution_count": 3,
   "id": "c61d6147",
   "metadata": {},
   "outputs": [
    {
     "data": {
      "text/plain": [
       "<arbor.recipe>"
      ]
     },
     "execution_count": 3,
     "metadata": {},
     "output_type": "execute_result"
    }
   ],
   "source": [
    "recipe = iopublic.build_recipe(\n",
    "    '2021-12-08-shadow_averages_0.01_0.8_d1666304-c6fc-4346-a55d-a99b3aad55be',\n",
    "    spikes={}\n",
    ")\n",
    "recipe"
   ]
  },
  {
   "cell_type": "code",
   "execution_count": 4,
   "id": "66f17f00",
   "metadata": {},
   "outputs": [
    {
     "name": "stdout",
     "output_type": "stream",
     "text": [
      "CPU times: user 2min 45s, sys: 1min 47s, total: 4min 32s\n",
      "Wall time: 4min 29s\n"
     ]
    }
   ],
   "source": [
    "%%time\n",
    "\n",
    "tfinal = 1000\n",
    "dt = 0.025\n",
    "gpu_id = 1\n",
    "\n",
    "context = arbor.context(threads=8, gpu_id=gpu_id)\n",
    "domains = arbor.partition_load_balance(recipe, context)\n",
    "\n",
    "sim = arbor.simulation(recipe, domains, context)\n",
    "\n",
    "voltage_handles = [sim.sample((gid, 1), arbor.regular_schedule(1), arbor.sampling_policy.exact) for gid in range(recipe.num_cells())]\n",
    "current_handles = [sim.sample((gid, 2), arbor.regular_schedule(1), arbor.sampling_policy.exact) for gid in range(recipe.num_cells())]\n",
    "\n",
    "sim.run(tfinal=tfinal, dt=dt)\n",
    "\n",
    "voltage_traces = [sim.samples(handle)[0] for handle in voltage_handles]\n",
    "current_traces = [sim.samples(handle)[0] for handle in current_handles]"
   ]
  },
  {
   "cell_type": "code",
   "execution_count": 5,
   "id": "d85972ab",
   "metadata": {},
   "outputs": [
    {
     "name": "stdout",
     "output_type": "stream",
     "text": [
      "There are 212962 nonempty CVs\n"
     ]
    }
   ],
   "source": [
    "# each element of V_samples is [nsamples * (time, v(cv0), v(cv1), v(cv2))] etc\n",
    "indss = [np.array([m.dist!=m.prox for m in tr[1]]) for tr in voltage_traces]\n",
    "V_samples  = [tr[0][:, np.r_[True, inds]] for inds, tr in zip(indss, voltage_traces)]\n",
    "V_meta = [np.array(tr[1])[inds].tolist() for inds, tr in zip(indss, voltage_traces)]\n",
    "I_samples  = [x[0] for x in current_traces]\n",
    "I_meta = [x[1] for x in current_traces]\n",
    "for a,b  in zip(V_meta, I_meta):\n",
    "    assert a == b\n",
    "for a,b  in zip(V_samples, I_samples):\n",
    "    assert (a[:, 0]==b[:, 0]).all()\n",
    "time = V_samples[0][0]\n",
    "V_m = [x[:,1:].T for x in V_samples]\n",
    "I_m = [x[:,1:].T for x in I_samples]\n",
    "print('There are', sum(map(len, V_m)), 'nonempty CVs')"
   ]
  },
  {
   "cell_type": "code",
   "execution_count": 6,
   "id": "474698ff",
   "metadata": {},
   "outputs": [],
   "source": [
    "# from https://github.com/LFPy/LFPykit/blob/master/examples/Example_Arbor_swc.ipynb\n",
    "\n",
    "class ArborCellGeometry(lfpykit.CellGeometry):\n",
    "    '''\n",
    "    Class inherited from  ``lfpykit.CellGeometry`` for easier forward-model predictions in Arbor\n",
    "    that keeps track of arbor.segment information for each CV. \n",
    "    \n",
    "    Parameters\n",
    "    ----------\n",
    "    p: ``arbor.place_pwlin`` object\n",
    "        3-d locations and cables in a morphology (cf. ``arbor.place_pwlin``)\n",
    "    cables: ``list``\n",
    "         ``list`` of corresponding ``arbor.cable`` objects where transmembrane \n",
    "         currents are recorded (cf. ``arbor.cable_probe_total_current_cell``)\n",
    "\n",
    "    See also\n",
    "    --------\n",
    "    lfpykit.CellGeometry\n",
    "    '''\n",
    "    def __init__(self, p, cables):\n",
    "        x, y, z, d = [np.array([], dtype=float).reshape((0, 2))] * 4\n",
    "        CV_ind = np.array([], dtype=int)  # tracks which CV owns segment\n",
    "        for i, m in enumerate(cables):\n",
    "            segs = p.segments([m])\n",
    "            for j, seg in enumerate(segs):\n",
    "                x = np.row_stack([x, [seg.prox.x, seg.dist.x]])\n",
    "                y = np.row_stack([y, [seg.prox.y, seg.dist.y]])\n",
    "                z = np.row_stack([z, [seg.prox.z, seg.dist.z]])\n",
    "                d = np.row_stack([d, [seg.prox.radius * 2, seg.dist.radius * 2]])\n",
    "                CV_ind = np.r_[CV_ind, i]\n",
    "                                \n",
    "        super().__init__(x=x, y=y, z=z, d=d)\n",
    "        self._CV_ind = CV_ind\n",
    "\n",
    "class ArborLineSourcePotential(lfpykit.LineSourcePotential):\n",
    "    '''subclass of ``lfpykit.LineSourcePotential`` modified for \n",
    "    instances of ``ArborCellGeometry``. \n",
    "    Each CV may consist of several segments , and this implementation \n",
    "    accounts for their contributions normalized by surface area, that is, \n",
    "    we assume constant transmembrane current density per area across each CV\n",
    "    and constant current source density per unit length per segment \n",
    "    (inherent in the line-source approximation).\n",
    "    \n",
    "    Parameters\n",
    "    ----------\n",
    "    cell: object\n",
    "        ``ArborCellGeometry`` instance or similar.\n",
    "    x: ndarray of floats\n",
    "        x-position of measurement sites (µm)\n",
    "    y: ndarray of floats\n",
    "        y-position of measurement sites (µm)\n",
    "    z: ndarray of floats\n",
    "        z-position of measurement sites (µm)\n",
    "    sigma: float > 0\n",
    "        scalar extracellular conductivity (S/m)\n",
    "    \n",
    "    See also\n",
    "    --------\n",
    "    lfpykit.LineSourcePotential\n",
    "    '''\n",
    "    def __init__(self, **kwargs):\n",
    "        super().__init__(**kwargs)\n",
    "        self._get_transformation_matrix = super().get_transformation_matrix\n",
    "    \n",
    "    def get_transformation_matrix(self):\n",
    "        '''Get linear response matrix\n",
    "\n",
    "        Returns\n",
    "        -------\n",
    "        response_matrix: ndarray\n",
    "            shape (n_coords, n_CVs) ndarray\n",
    "        '''\n",
    "        M_tmp = self._get_transformation_matrix()\n",
    "        n_CVs = np.unique(self.cell._CV_ind).size\n",
    "        M = np.zeros((self.x.size, n_CVs))\n",
    "        for i in range(n_CVs):\n",
    "            inds = self.cell._CV_ind == i\n",
    "            M[:, i] = M_tmp[:, inds] @ (self.cell.area[inds] / self.cell.area[inds].sum())\n",
    "        \n",
    "        return M"
   ]
  },
  {
   "cell_type": "code",
   "execution_count": 7,
   "id": "27fcdfc1",
   "metadata": {},
   "outputs": [],
   "source": [
    "N_SAMPLES = 64 # along 1 dimension. values > 10 = slow\n",
    "\n",
    "# find an interesting plane:\n",
    "# pick three points in the model\n",
    "a = random.choice(recipe.neurons)\n",
    "a = np.array([a.x, a.y, a.z])\n",
    "b = random.choice(recipe.neurons)\n",
    "b = np.array([b.x, b.y, b.z])\n",
    "c = random.choice(recipe.neurons)\n",
    "c = np.array([c.x, c.y, c.z])\n",
    "# find 2d plane through the points\n",
    "u = b - a\n",
    "v = c - a\n",
    "point = np.array([a, b, c]).mean(0)\n",
    "normal = np.cross(u, v)\n",
    "normal = normal / np.linalg.norm(normal)\n",
    "# find a sensible scale given the points\n",
    "scale = np.array([np.linalg.norm(b - a), np.linalg.norm(c - a), np.linalg.norm(b - c)]).mean()\n",
    "# create two orthogonal vectors inside the plane\n",
    "e0 = b - a\n",
    "e1 = np.cross(e0, b)\n",
    "e0 = e0 / np.linalg.norm(e0)\n",
    "e1 = e1 / np.linalg.norm(e1)\n",
    "\n",
    "# 1 coord\n",
    "s = np.linspace(-scale*0.8, scale*0.8, N_SAMPLES)\n",
    "\n",
    "# meshgrid that:\n",
    "Xplane, Yplane = np.meshgrid(s, s)\n",
    "X, Y, Z = point[:, None] + \\\n",
    "    Xplane.flatten()[None, :]*e0[:, None] + \\\n",
    "    Yplane.flatten()[None, :]*e1[:, None]"
   ]
  },
  {
   "cell_type": "code",
   "execution_count": 8,
   "id": "a4799c5c",
   "metadata": {},
   "outputs": [
    {
     "name": "stdout",
     "output_type": "stream",
     "text": [
      "0 1 2 3 4 5 6 7 8 9 10 11 12 13 14 15 16 17 18 19 20 21 22 23 24 25 26 27 28 29 30 31 32 33 34 35 36 37 38 39 40 41 42 43 44 45 46 47 48 49 50 51 52 53 54 55 56 57 58 59 60 61 62 63 64 65 66 67 68 69 70 71 72 73 74 75 76 77 78 79 80 81 82 83 84 85 86 87 88 89 90 91 92 93 94 95 96 97 98 99 100 101 102 103 104 105 106 107 108 109 110 111 112 113 114 115 116 117 118 119 120 121 122 123 124 125 126 127 128 129 130 131 132 133 134 135 136 137 138 139 140 141 142 143 144 145 146 147 148 149 150 151 152 153 154 155 156 157 158 159 160 161 162 163 164 165 166 167 168 169 170 171 172 173 174 175 176 177 178 179 180 181 182 183 184 185 186 187 188 189 190 191 192 193 194 195 196 197 198 199 200 201 202 203 204 205 206 207 208 209 210 211 212 213 214 215 216 217 218 219 220 221 222 223 224 225 226 227 228 229 230 231 232 233 234 235 236 237 238 239 240 241 242 243 244 245 246 247 248 249 250 251 252 253 254 255 256 257 258 259 260 261 262 263 264 265 266 267 268 269 270 271 272 273 274 275 276 277 278 279 280 281 282 283 284 285 286 287 288 289 290 291 292 293 294 295 296 297 298 299 300 301 302 303 304 305 306 307 308 309 310 311 312 313 314 315 316 317 318 319 320 321 322 323 324 325 326 327 328 329 330 331 332 333 334 335 336 337 338 339 340 341 342 343 344 345 346 347 348 349 350 351 352 353 354 355 356 357 358 359 360 361 362 363 364 365 366 367 368 369 370 371 372 373 374 375 376 377 378 379 380 381 382 383 384 385 386 387 388 389 390 391 392 393 394 395 396 397 398 399 400 401 402 403 404 405 406 407 408 409 410 411 412 413 414 415 416 417 418 419 420 421 422 423 424 425 426 427 428 429 430 431 432 433 434 435 436 437 438 439 440 441 442 443 444 445 446 447 448 449 450 451 452 453 454 455 456 457 458 459 460 461 462 463 464 465 466 467 468 469 470 471 472 473 474 475 476 477 478 479 480 481 482 483 484 485 486 487 488 489 490 491 492 493 494 495 496 497 498 499 500 501 502 503 504 505 506 507 508 509 510 511 512 513 514 515 516 517 518 519 520 521 522 523 524 525 526 527 528 529 530 531 532 533 534 535 536 537 538 539 540 541 542 543 544 545 546 547 548 549 550 551 552 553 554 555 556 557 558 559 560 561 562 563 564 565 566 567 568 569 570 571 572 573 574 575 576 577 578 579 580 581 582 583 584 585 586 587 588 589 590 591 592 593 594 595 596 597 598 599 600 601 602 603 604 605 606 607 608 609 610 611 612 613 614 615 616 617 618 619 620 621 622 623 624 625 626 627 628 629 630 631 632 633 634 635 636 637 638 639 640 641 642 643 644 645 646 647 648 649 650 651 652 653 654 655 656 657 658 659 660 661 662 663 664 665 666 667 668 669 670 671 672 673 674 675 676 677 678 679 680 681 682 683 684 685 686 687 688 689 690 691 692 693 694 695 696 697 698 699 700 701 702 703 704 705 706 707 708 709 710 711 712 713 714 715 716 717 718 719 720 721 722 723 724 725 726 727 728 729 730 731 732 733 734 735 736 737 738 739 740 741 742 743 744 745 746 747 748 749 750 751 752 753 754 755 756 757 758 759 760 761 762 763 764 765 766 767 768 769 770 771 772 773 774 775 776 777 778 779 780 781 782 783 784 785 786 787 788 789 790 791 792 793 794 795 796 797 798 799 800 801 802 803 804 805 806 807 808 809 810 811 812 813 814 815 816 817 818 819 820 821 822 823 824 825 826 827 828 829 830 831 832 833 834 835 836 837 838 839 840 841 842 843 844 845 846 847 848 849 850 851 852 853 854 855 856 857 858 859 860 861 862 863 864 865 866 867 868 869 870 871 872 873 874 875 876 877 878 879 880 881 882 883 884 885 886 887 888 889 890 891 892 893 894 895 896 897 898 899 900 901 902 903 904 905 906 907 908 909 910 911 912 913 914 915 916 917 918 919 920 921 922 923 924 925 926 927 928 929 930 931 932 933 934 935 936 937 938 939 940 941 942 943 944 945 946 947 948 949 950 951 952 953 954 955 956 957 958 959 960 961 962 963 964 965 966 967 968 969 970 971 972 973 974 975 976 977 978 CPU times: user 14min 29s, sys: 2h 55s, total: 2h 15min 25s\n",
      "Wall time: 13min 1s\n"
     ]
    }
   ],
   "source": [
    "%%time\n",
    "lsps = []\n",
    "Ms = []\n",
    "geometries = []\n",
    "for gid in range(recipe.num_cells()):\n",
    "    segtree = recipe.cell_morphology(gid)\n",
    "    p = arbor.place_pwlin(arbor.morphology(segtree))\n",
    "    cell_geometry = ArborCellGeometry(p, I_meta[gid])\n",
    "    lsp = ArborLineSourcePotential(cell=cell_geometry, x=X, y=Y, z=Z)\n",
    "    M = lsp.get_transformation_matrix()\n",
    "    geometries.append(cell_geometry)\n",
    "    lsps.append(lsp)\n",
    "    Ms.append(M)\n",
    "    print(gid, end=' ')"
   ]
  },
  {
   "cell_type": "code",
   "execution_count": null,
   "id": "e5bfd3ad",
   "metadata": {},
   "outputs": [],
   "source": [
    "%%time\n",
    "# Extracellular potential in x,y-plane\n",
    "# V_ext contains potential for each neurons\n",
    "V_ext = np.array([Ms[gid] @ I_m[gid] for gid in range(recipe.num_cells()) if len(Ms) > gid])\n",
    "# V_e sums up the individual neurons contributions\n",
    "V_e = np.nan_to_num(V_ext).sum(0).reshape(*Xplane.shape, -1)"
   ]
  },
  {
   "cell_type": "code",
   "execution_count": 10,
   "id": "f50bd9e2",
   "metadata": {},
   "outputs": [
    {
     "data": {
      "text/plain": [
       "<matplotlib.colorbar.Colorbar at 0x7f9d58040f10>"
      ]
     },
     "execution_count": 10,
     "metadata": {},
     "output_type": "execute_result"
    },
    {
     "data": {
      "image/png": "[encoded data removed]",
      "text/plain": [
       "<Figure size 1080x576 with 2 Axes>"
      ]
     },
     "metadata": {
      "needs_background": "light"
     },
     "output_type": "display_data"
    }
   ],
   "source": [
    "plt.figure(figsize=(15, 8))\n",
    "lim = float(f'{abs(V_e).max() / 3:.1e}')\n",
    "levels = np.linspace(-lim, lim, 25)\n",
    "plt.contourf(Xplane, Yplane, V_e[..., -1], cmap='RdBu', levels=levels, extend='both')\n",
    "plt.colorbar()"
   ]
  },
  {
   "cell_type": "code",
   "execution_count": null,
   "id": "1b08a781",
   "metadata": {},
   "outputs": [],
   "source": [
    "plt.figure(figsize=(12, 5))\n",
    "plt.imshow(V_e[15, :, 400:], aspect='auto')\n",
    "plt.xlabel('time')\n",
    "plt.ylabel('space')"
   ]
  },
  {
   "cell_type": "code",
   "execution_count": 124,
   "id": "35fb7d8b",
   "metadata": {},
   "outputs": [],
   "source": [
    "arbor.place_pwlin?"
   ]
  },
  {
   "cell_type": "code",
   "execution_count": null,
   "id": "bc7b305e",
   "metadata": {},
   "outputs": [],
   "source": []
  }
 ],
 "metadata": {
  "kernelspec": {
   "display_name": "Python 3 (ipykernel)",
   "language": "python",
   "name": "python3"
  },
  "language_info": {
   "codemirror_mode": {
    "name": "ipython",
    "version": 3
   },
   "file_extension": ".py",
   "mimetype": "text/x-python",
   "name": "python",
   "nbconvert_exporter": "python",
   "pygments_lexer": "ipython3",
   "version": "3.8.10"
  }
 },
 "nbformat": 4,
 "nbformat_minor": 5
}
