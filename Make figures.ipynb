{
 "cells": [
  {
   "cell_type": "markdown",
   "id": "d6db6af2",
   "metadata": {},
   "source": [
    "# Gather data"
   ]
  },
  {
   "cell_type": "markdown",
   "id": "01f3754d",
   "metadata": {},
   "source": [
    "## RDF"
   ]
  },
  {
   "cell_type": "code",
   "execution_count": 1,
   "id": "1c6a05bf",
   "metadata": {},
   "outputs": [
    {
     "name": "stdout",
     "output_type": "stream",
     "text": [
      "...................................................................................................................................."
     ]
    }
   ],
   "source": [
    "import re\n",
    "import h5py\n",
    "import iopublic\n",
    "import numpy as np\n",
    "\n",
    "PAT = r'_([01][^_]*)_([01]\\.[0-9])_'\n",
    "\n",
    "r = np.linspace(0, 1000, 200)\n",
    "dr = r[1] - r[0]\n",
    "\n",
    "def go(simdata, network):\n",
    "    pos = np.array([(n.x, n.y, n.z) for n in network.neurons])\n",
    "    sync = np.array(simdata['sync']) # gid, gjd, tfrom, tto, z\n",
    "    rdf = np.zeros_like(r) # synchronization distribution\n",
    "    rdf0 = np.zeros_like(r) # position distribution\n",
    "    rs = np.linalg.norm(pos[sync[:,0].astype(int)] - pos[sync[:,1].astype(int)], axis=1)\n",
    "    rs0 = np.linalg.norm(pos[:,np.newaxis,:] - pos[np.newaxis, :, :], axis=2).flatten()\n",
    "    for dist, length in zip(rs, sync[:,3] - sync[:,2]):\n",
    "        idx = int(dist / dr)\n",
    "        if idx >= len(rdf):\n",
    "            continue\n",
    "        rdf[idx] += length\n",
    "    for dist in rs0:\n",
    "        idx = int(dist / dr)\n",
    "        if idx >= len(rdf):\n",
    "            continue\n",
    "        rdf0[idx] += 20000\n",
    "    rdf0[0] = 1\n",
    "    rdf = rdf / rdf0\n",
    "    rdf[0] = 0\n",
    "    return rdf\n",
    "\n",
    "with h5py.File('imgdata/rdf.h5', 'w') as fout:\n",
    "    f = h5py.File('/home/llandsmeer/Data/database.h5', 'r')\n",
    "    for tuning in f.keys():\n",
    "        network = iopublic.get_network_for_tuning(tuning)\n",
    "        for env in f[tuning].keys():\n",
    "            print('.', flush=True, end='')\n",
    "            simdata = f[tuning][env]\n",
    "            if 'sync' not in simdata:\n",
    "                continue\n",
    "            rdf = go(simdata, network)\n",
    "            fout.create_dataset(f'{tuning}/{env}/rdf', data=rdf)\n",
    "            fout.create_dataset(f'{tuning}/{env}/r', data=r)\n",
    "            m = re.search(PAT, tuning)\n",
    "            ggap = float(m.group(1))\n",
    "            coef = float(m.group(2))\n",
    "            fout.create_dataset(f'{tuning}/{env}/ggap', data=ggap)\n",
    "            fout.create_dataset(f'{tuning}/{env}/coef', data=coef)"
   ]
  },
  {
   "cell_type": "markdown",
   "id": "0663dd6b",
   "metadata": {},
   "source": [
    "# Plotting"
   ]
  },
  {
   "cell_type": "markdown",
   "id": "a4d22116",
   "metadata": {},
   "source": [
    "## Synchronization (RDF)"
   ]
  },
  {
   "cell_type": "code",
   "execution_count": 41,
   "id": "449620d4",
   "metadata": {
    "scrolled": true
   },
   "outputs": [
    {
     "data": {
      "image/png": "[encoded data removed]",
      "text/plain": [
       "<Figure size 432x288 with 1 Axes>"
      ]
     },
     "metadata": {
      "needs_background": "light"
     },
     "output_type": "display_data"
    }
   ],
   "source": [
    "import h5py\n",
    "import numpy as np\n",
    "import matplotlib.pyplot as plt\n",
    "from scipy.signal import savgol_filter\n",
    "%matplotlib inline\n",
    "\n",
    "plt.rc('font', family='serif')\n",
    "\n",
    "keys = '''021-12-08-shadow_averages_0.01_0.0_965ef6ef-67f4-4903-a90d-efd8e361dc7d\n",
    "2021-12-08-shadow_averages_0.01_0.1_7c60a825-0f18-48eb-85b5-15891617c0ac\n",
    "2021-12-08-shadow_averages_0.01_0.2_5e889db2-932e-4e73-ba07-0772e4fa6a4a\n",
    "2021-12-08-shadow_averages_0.01_0.3_4a2657f8-e7e9-4c15-ae11-a2edcac108fc\n",
    "2021-12-08-shadow_averages_0.01_0.4_2dc970f8-41c0-4a0d-9a73-083f986023bf\n",
    "2021-12-08-shadow_averages_0.01_0.5_3447248c-68a1-4860-b512-39fa22a5fa86\n",
    "2021-12-08-shadow_averages_0.01_0.6_b07556b1-21fa-47e6-9021-20072df022c6\n",
    "2021-12-08-shadow_averages_0.01_0.7_ff526814-9232-4074-8473-16a99676c3ab\n",
    "2021-12-08-shadow_averages_0.01_0.8_d1666304-c6fc-4346-a55d-a99b3aad55be\n",
    "2021-12-08-shadow_averages_0.01_0.9_ada2023a-4377-409b-a5ce-02b6768ffe41\n",
    "2021-12-08-shadow_averages_0.01_1.0_751ac228-3e2f-4d28-9894-6972386c6977'''.splitlines()\n",
    "\n",
    "f = h5py.File('imgdata/rdf.h5', 'r')\n",
    "selected = [2,5,8]\n",
    "kwargs = [\n",
    "    dict(color='0.7', ls='solid'),\n",
    "    dict(color='0.3', ls='dashed'),\n",
    "    dict(color='k', ls='solid')\n",
    "]\n",
    "for i, kw in zip(selected, kwargs):\n",
    "    rdf = np.array(f[f'{keys[i]}/none/rdf'])\n",
    "    rdf2 = savgol_filter(rdf, 5, 1)\n",
    "    r = np.array(f[f'{keys[i]}/none/r'])\n",
    "    ggap = np.array(f[f'{keys[i]}/none/ggap']).item()\n",
    "    coef = np.array(f[f'{keys[i]}/none/coef']).item()\n",
    "    #rdf[0] = np.nan\n",
    "    plt.plot(r, rdf2, label=f'{coef}', **kw)\n",
    "plt.xlabel('Soma-soma distance ($\\\\mu m$)')\n",
    "plt.ylabel(r'$\\left<\\rho_{\\mathrm{sync}}(r)\\right>_t / \\rho_{\\mathrm{soma}}(r)$')\n",
    "plt.legend(frameon=False)\n",
    "plt.ylim([0, 0.3])\n",
    "plt.xlim([0, 500])\n",
    "plt.title('Radial density function of synchronization')\n",
    "ax = plt.gca()\n",
    "ax.spines['top'].set_visible(False)\n",
    "ax.spines['right'].set_visible(False)\n",
    "ax.spines['bottom'].set_visible(False)\n",
    "ax.spines['left'].set_visible(False)\n",
    "plt.tick_params(bottom = False, left=False)"
   ]
  },
  {
   "cell_type": "markdown",
   "id": "66d2e03e",
   "metadata": {},
   "source": [
    "# Synchronization (sync)"
   ]
  },
  {
   "cell_type": "code",
   "execution_count": 172,
   "id": "0aeb19e6",
   "metadata": {},
   "outputs": [],
   "source": [
    "import h5py\n",
    "import iopublic\n",
    "import numpy as np\n",
    "import matplotlib.pyplot as plt\n",
    "%matplotlib inline\n",
    "\n",
    "f = h5py.File('/home/llandsmeer/Data/database.h5', 'r')\n",
    "tuning = '2021-12-08-shadow_averages_0.01_0.5_3447248c-68a1-4860-b512-39fa22a5fa86'\n",
    "#tuning = '2021-12-08-shadow_averages_0.001_1.0_751ac228-3e2f-4d28-9894-6972386c6977'\n",
    "network = iopublic.get_network_for_tuning(tuning)\n",
    "sync = np.array(f[tuning]['none']['sync'])"
   ]
  },
  {
   "cell_type": "code",
   "execution_count": 181,
   "id": "0d7d0d5d",
   "metadata": {},
   "outputs": [
    {
     "data": {
      "text/plain": [
       "Text(0, 0.5, 'Neuron (gid)')"
      ]
     },
     "execution_count": 181,
     "metadata": {},
     "output_type": "execute_result"
    },
    {
     "data": {
      "image/png": "[encoded data removed]",
      "text/plain": [
       "<Figure size 432x288 with 1 Axes>"
      ]
     },
     "metadata": {
      "needs_background": "light"
     },
     "output_type": "display_data"
    }
   ],
   "source": [
    "selected = 7\n",
    "\n",
    "plt.rc('font', family='serif')\n",
    "\n",
    "C = np.array([neuron.cluster for neuron in network.neurons])\n",
    "#C = np.random.permutation(C)\n",
    "mask = (C[sync[:,0].astype(int)] == selected) & (C[sync[:,1].astype(int)] == selected)\n",
    "i, j, s, t = sync[mask, :4].astype(int).T\n",
    "neurons = list(sorted(set(i) | set(j)))\n",
    "ii = np.array([neurons.index(x) for x in i])\n",
    "jj = np.array([neurons.index(x) for x in j])\n",
    "\n",
    "#plt.figure(figsize=(14, 10))\n",
    "\n",
    "cmap = plt.get_cmap('tab10')\n",
    "\n",
    "def getc(i):\n",
    "    return cmap(i / len(neurons))\n",
    "    if i % 2 == 0:\n",
    "        return '0.9'\n",
    "    return 'white'\n",
    "\n",
    "ticks = []\n",
    "ticklabels = []\n",
    "\n",
    "for idx, I in enumerate(neurons):\n",
    "    #plt.axhline(idx*I0, color='black', lw=1)\n",
    "    I0 = len(neurons)\n",
    "    ticks.append(I0*idx + I0 / 2)\n",
    "    ticklabels.append(f'#{I}')\n",
    "    plt.plot(-1, idx*I0 + I0/2, 's', color=getc(idx))\n",
    "    if idx % 2 == 0:\n",
    "        plt.fill_between([0, 20], [I0*idx, I0*idx], [I0*idx+I0, I0*idx+I0], color='black', alpha=0.1, edgecolor=\"none\")\n",
    "    for jdx, J in enumerate(neurons):\n",
    "        m = (i == I) & (j == J)\n",
    "        for ss, tt in zip(s[m], t[m]):\n",
    "            plt.plot([ss/1e3, tt/1e3], [0.5+I0*idx + jdx, 0.5+I0*idx + jdx], color=getc(jdx), lw=2, solid_capstyle='round')\n",
    "#plt.axhline(idx*I0+I0, color='black', lw=1)\n",
    "\n",
    "#plt.axvline(0, color='black', lw=1)\n",
    "\n",
    "plt.yticks(ticks, ticklabels)\n",
    "plt.ylim([ticks[0]-I0/2-0.1, ticks[-1]+I0/2+0.1])      \n",
    "ax = plt.gca()\n",
    "ax.spines['top'].set_visible(False)\n",
    "ax.spines['right'].set_visible(False)\n",
    "ax.spines['bottom'].set_visible(False)\n",
    "ax.spines['left'].set_visible(False)\n",
    "plt.tick_params(left=False)\n",
    "\n",
    "plt.title(f'Phase locking over time in morph. cluster #{selected}')\n",
    "plt.xlabel('Time (s)')\n",
    "plt.ylabel('Neuron (gid)')"
   ]
  },
  {
   "cell_type": "code",
   "execution_count": 169,
   "id": "d8fb3a89",
   "metadata": {},
   "outputs": [
    {
     "data": {
      "text/plain": [
       "[14, 623, 731, 733, 799]"
      ]
     },
     "execution_count": 169,
     "metadata": {},
     "output_type": "execute_result"
    }
   ],
   "source": []
  },
  {
   "cell_type": "code",
   "execution_count": null,
   "id": "7fe83c40",
   "metadata": {},
   "outputs": [],
   "source": []
  }
 ],
 "metadata": {
  "kernelspec": {
   "display_name": "Python 3 (ipykernel)",
   "language": "python",
   "name": "python3"
  },
  "language_info": {
   "codemirror_mode": {
    "name": "ipython",
    "version": 3
   },
   "file_extension": ".py",
   "mimetype": "text/x-python",
   "name": "python",
   "nbconvert_exporter": "python",
   "pygments_lexer": "ipython3",
   "version": "3.8.10"
  }
 },
 "nbformat": 4,
 "nbformat_minor": 5
}
