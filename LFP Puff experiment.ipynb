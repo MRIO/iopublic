{
 "cells": [
  {
   "cell_type": "code",
   "execution_count": 1,
   "id": "c1281f5a",
   "metadata": {},
   "outputs": [],
   "source": [
    "#!pip3 install lfpykit"
   ]
  },
  {
   "cell_type": "code",
   "execution_count": 2,
   "id": "1a200fbb",
   "metadata": {},
   "outputs": [],
   "source": [
    "%matplotlib inline\n",
    "\n",
    "# if you want a specific arbor load location after a custom cmake build\n",
    "# from https://stackoverflow.com/questions/67631/how-to-import-a-module-given-the-full-path\n",
    "import sys\n",
    "import importlib\n",
    "ARBOR_LOCATION = '/specialhome/lennart/Repos/arbor-sim/arbor/build/python/arbor/__init__.py'\n",
    "spec = importlib.util.spec_from_file_location('arbor', ARBOR_LOCATION)\n",
    "module = importlib.util.module_from_spec(spec)\n",
    "sys.modules[spec.name] = module\n",
    "spec.loader.exec_module(module)\n",
    "\n",
    "import random\n",
    "from concurrent.futures import ThreadPoolExecutor, ProcessPoolExecutor\n",
    "import numpy as np\n",
    "import matplotlib.pyplot as plt\n",
    "\n",
    "import lfpykit\n",
    "import arbor\n",
    "\n",
    "import iopublic\n",
    "iopublic.ARBOR_BUILD_CATALOGUE = '/specialhome/lennart/Repos/arbor-sim/arbor/build/arbor-build-catalogue'"
   ]
  },
  {
   "cell_type": "markdown",
   "id": "18bf53cd",
   "metadata": {},
   "source": [
    "# Shared code"
   ]
  },
  {
   "cell_type": "code",
   "execution_count": 3,
   "id": "786395ab",
   "metadata": {},
   "outputs": [],
   "source": [
    "# from https://github.com/LFPy/LFPykit/blob/master/examples/Example_Arbor_swc.ipynb\n",
    "\n",
    "class ArborCellGeometry(lfpykit.CellGeometry):\n",
    "    def __init__(self, p, cables):\n",
    "        x, y, z, r = [], [], [], []\n",
    "        CV_ind = np.array([], dtype=int)  # tracks which CV owns segment\n",
    "        for i, m in enumerate(cables):\n",
    "            segs = p.segments([m])\n",
    "            for j, seg in enumerate(segs):\n",
    "                x.append([seg.prox.x, seg.dist.x])\n",
    "                y.append([seg.prox.y, seg.dist.y])\n",
    "                z.append([seg.prox.z, seg.dist.z])\n",
    "                r.append([seg.prox.radius, seg.dist.radius])\n",
    "                CV_ind = np.r_[CV_ind, i]\n",
    "        x = np.array(x, dtype=float)\n",
    "        y = np.array(y, dtype=float)\n",
    "        z = np.array(z, dtype=float)\n",
    "        d = 2*np.array(r, dtype=float)\n",
    "        super().__init__(x=x, y=y, z=z, d=d)\n",
    "        self._CV_ind = CV_ind\n",
    "\n",
    "\n",
    "class ArborLineSourcePotential(lfpykit.LineSourcePotential):\n",
    "    def __init__(self, **kwargs):\n",
    "        super().__init__(**kwargs)\n",
    "        self._get_transformation_matrix = super().get_transformation_matrix\n",
    "    \n",
    "    def get_transformation_matrix(self):\n",
    "        M_tmp = self._get_transformation_matrix()\n",
    "        n_CVs = np.unique(self.cell._CV_ind).size\n",
    "        M = np.zeros((self.x.size, n_CVs))\n",
    "        for i in range(n_CVs):\n",
    "            inds = self.cell._CV_ind == i\n",
    "            M[:, i] = M_tmp[:, inds] @ (self.cell.area[inds] / self.cell.area[inds].sum())\n",
    "        return M"
   ]
  },
  {
   "cell_type": "markdown",
   "id": "701518e9",
   "metadata": {},
   "source": [
    "# Simulation"
   ]
  },
  {
   "cell_type": "code",
   "execution_count": 4,
   "id": "f0846dbc",
   "metadata": {},
   "outputs": [
    {
     "name": "stdout",
     "output_type": "stream",
     "text": [
      "done\n",
      "done\n",
      "done\n",
      "CPU times: user 1min 48s, sys: 6.25 s, total: 1min 54s\n",
      "Wall time: 1min 52s\n"
     ]
    }
   ],
   "source": [
    "%%time\n",
    "# 2 minutes\n",
    "selected = '2021-12-08-shadow_averages_0.01_0.8_d1666304-c6fc-4346-a55d-a99b3aad55be'\n",
    "neurons = iopublic.get_network_for_tuning(selected).neurons\n",
    "\n",
    "tstart =  5000\n",
    "tfinal = 25000\n",
    "dt = 0.025\n",
    "dt = 0.005\n",
    "gpu_id = 1\n",
    "num_sources = 100\n",
    "\n",
    "def spiketrain(f_hz, a=0, b=tfinal):\n",
    "    x = 0\n",
    "    while True:\n",
    "        interval = np.random.poisson(lam=1000/f_hz)\n",
    "        x = x + interval\n",
    "        if x > b:\n",
    "            return\n",
    "        if x >= a:\n",
    "            yield x\n",
    "\n",
    "spikes = []\n",
    "\n",
    "for i in range(num_sources):\n",
    "    tgt = random.choice(neurons)\n",
    "    at = tuple([at for at in spiketrain(100, tstart-500, tfinal) if not (0 < at % 1000 < 100)])\n",
    "    spikes.append((at, [tgt.x, tgt.y, tgt.z, 75, 0.000025, 'gaba']))\n",
    "    at = tuple([at for at in spiketrain(10, tstart, tfinal) if (0 < at % 1000 < 100)])\n",
    "    spikes.append((at, [tgt.x, tgt.y, tgt.z, 250, 0.005, 'ampa']))\n",
    "        \n",
    "print('done')\n",
    "recipe = iopublic.build_recipe(\n",
    "    selected,\n",
    "    spikes=spikes\n",
    ")\n",
    "print('done')\n",
    "context = arbor.context(threads=8, gpu_id=gpu_id)\n",
    "domains = arbor.partition_load_balance(recipe, context)\n",
    "sim = arbor.simulation(recipe, domains, context)\n",
    "print('done')\n",
    "tmem_current_handles = [sim.sample((gid, 2), arbor.regular_schedule(tstart, 5, tfinal), arbor.sampling_policy.exact) for gid in range(recipe.num_cells())]\n",
    "stim_current_handles = [sim.sample((gid, 3), arbor.regular_schedule(tstart, 5, tfinal), arbor.sampling_policy.exact) for gid in range(recipe.num_cells())]\n",
    "handles = [sim.sample((gid, 0), arbor.regular_schedule(1)) for gid in range(recipe.num_cells())]"
   ]
  },
  {
   "cell_type": "code",
   "execution_count": 5,
   "id": "4f52f403",
   "metadata": {},
   "outputs": [
    {
     "name": "stdout",
     "output_type": "stream",
     "text": [
      "CPU times: user 14min, sys: 16min 49s, total: 30min 49s\n",
      "Wall time: 30min 29s\n"
     ]
    },
    {
     "data": {
      "text/plain": [
       "5000.0"
      ]
     },
     "execution_count": 5,
     "metadata": {},
     "output_type": "execute_result"
    }
   ],
   "source": [
    "%%time\n",
    "# 12 minutes\n",
    "sim.run(tfinal=tstart, dt=dt)"
   ]
  },
  {
   "cell_type": "code",
   "execution_count": 6,
   "id": "b8f1e03b",
   "metadata": {},
   "outputs": [],
   "source": [
    "I_meta = [sim.samples(handle)[0][1] for handle in tmem_current_handles]"
   ]
  },
  {
   "cell_type": "code",
   "execution_count": 7,
   "id": "4a539c2f",
   "metadata": {},
   "outputs": [
    {
     "name": "stdout",
     "output_type": "stream",
     "text": [
      "0 5 10 15 20 25 30 35 40 45 50 55 60 65 70 75 80 85 90 95 100 105 110 115 120 125 130 135 140 145 150 155 160 165 170 175 180 185 190 195 200 205 210 215 220 225 230 235 240 245 250 255 260 265 270 275 280 285 290 295 300 305 310 315 320 325 330 335 340 345 350 355 360 365 370 375 380 385 390 395 400 405 410 415 420 425 430 435 440 445 450 455 460 465 470 475 480 485 490 495 500 505 510 515 520 525 530 535 540 545 550 555 560 565 570 575 580 585 590 595 600 605 610 615 620 625 630 635 640 645 650 655 660 665 670 675 680 685 690 695 700 705 710 715 720 725 730 735 740 745 750 755 760 765 770 775 780 785 790 795 800 805 810 815 820 825 830 835 840 845 850 855 860 865 870 875 880 885 890 895 900 905 910 915 920 925 930 935 940 945 950 955 960 965 970 975 CPU times: user 22min 40s, sys: 1h 18min 6s, total: 1h 40min 47s\n",
      "Wall time: 1min 45s\n"
     ]
    }
   ],
   "source": [
    "%%time\n",
    "# 2 minutes\n",
    "\n",
    "N_SAMPLES = 64 # along 1 dimension. values > 10 = slow\n",
    "soma = np.array([(a.x, a.y, a.z) for a in recipe.neurons]).T\n",
    "\n",
    "sx = np.linspace(soma[0].min(), soma[0].max(), N_SAMPLES)\n",
    "sy = np.linspace(soma[1].min(), soma[1].max(), N_SAMPLES)\n",
    "z0 = soma[2].mean()\n",
    "e = np.eye(3)\n",
    "\n",
    "Xplane, Yplane = np.meshgrid(sx, sy)\n",
    "X, Y, Z = (e[0]*Xplane.reshape(-1, 1) + e[1]*Yplane.reshape(-1, 1) + e[2]*z0).T\n",
    "lsps = []\n",
    "Ms = []\n",
    "geometries = []\n",
    "for gid in range(recipe.num_cells()):\n",
    "    segtree = recipe.cell_morphology(gid)\n",
    "    p = arbor.place_pwlin(arbor.morphology(segtree))\n",
    "    cell_geometry = ArborCellGeometry(p, I_meta[gid])\n",
    "    lsp = ArborLineSourcePotential(cell=cell_geometry, x=X, y=Y, z=Z)\n",
    "    M = lsp.get_transformation_matrix()\n",
    "    geometries.append(cell_geometry)\n",
    "    lsps.append(lsp)\n",
    "    Ms.append(M)\n",
    "    if gid % 5 == 0:\n",
    "        print(gid, end=' ', flush=True)"
   ]
  },
  {
   "cell_type": "code",
   "execution_count": null,
   "id": "cff6867c",
   "metadata": {},
   "outputs": [
    {
     "name": "stdout",
     "output_type": "stream",
     "text": [
      "5000 6000\n",
      "(979, 1000) 0.0020429009193054137\n",
      "6000 7000\n",
      "(979, 1000) 0.0020429009193054137\n",
      "7000 8000\n",
      "(979, 1000) 0.0020429009193054137\n",
      "8000 9000\n",
      "(979, 1000) 0.0020429009193054137\n",
      "9000 10000\n",
      "(979, 1000) 0.0040858018386108275\n",
      "10000 11000\n",
      "(979, 1000) 0.0040858018386108275\n",
      "11000 12000\n",
      "(979, 1000) 0.0040858018386108275\n",
      "12000 13000\n",
      "(979, 1000) 0.0040858018386108275\n",
      "13000 14000\n",
      "(979, 1000) 0.0040858018386108275\n",
      "14000 15000\n"
     ]
    }
   ],
   "source": [
    "# 1 minutes per 1000 ms\n",
    "# this loops prevents our GPU from running out of memory\n",
    "# in steps of 1 second, we simulate the network\n",
    "# each time, we clear the GPU memory, load back & reduce\n",
    "\n",
    "concat_vsall = []\n",
    "concat_Vext = []\n",
    "concat_time = []\n",
    "for tcurrent in range(tstart, tfinal, 1000):\n",
    "    print(tcurrent, tcurrent+1000)\n",
    "    # clear GPU memory\n",
    "    sim.clear_samplers()\n",
    "    # run simulation for 1 second\n",
    "    #tmem_current_handles = [sim.sample((gid, 2), arbor.regular_schedule(tstart, 5, tfinal), arbor.sampling_policy.exact) for gid in range(recipe.num_cells())]\n",
    "    #stim_current_handles = [sim.sample((gid, 2), arbor.regular_schedule(tstart, 5, tfinal), arbor.sampling_policy.exact) for gid in range(recipe.num_cells())]\n",
    "    #handles = [sim.sample((gid, 0), arbor.regular_schedule(1)) for gid in range(recipe.num_cells())]\n",
    "    sim.run(tfinal=tcurrent+1000, dt=dt)\n",
    "    # get currents\n",
    "    tmem_current_traces = [sim.samples(handle)[0] for handle in tmem_current_handles]\n",
    "    stim_current_traces = [sim.samples(handle)[0] for handle in stim_current_handles]\n",
    "    traces = [sim.samples(handle)[0][0].T for handle in handles]\n",
    "    # get voltages\n",
    "    vsall = np.array([vs for t, vs in traces])\n",
    "    # get timestamps\n",
    "    time = tmem_current_traces[0][0][:,0]\n",
    "    # calculate total currents\n",
    "    I_m  = [tmem[0][:,1:].T + stim[0][:,1:].T for tmem, stim in zip(tmem_current_traces, stim_current_traces)]\n",
    "    # reduce to external potential\n",
    "    V_ext = 0\n",
    "    for gid in range(recipe.num_cells()):\n",
    "        V_ext = V_ext + np.nan_to_num(Ms[gid] @ I_m[gid])\n",
    "    V_ext = V_ext.reshape((N_SAMPLES, N_SAMPLES, -1))\n",
    "    # save reduced values\n",
    "    print(vsall.shape, np.isnan(vsall.ptp(1)).mean())\n",
    "    concat_vsall.append(vsall)\n",
    "    concat_Vext.append(V_ext)\n",
    "    concat_time.append(time)\n",
    "time = np.concatenate(concat_time)\n",
    "vsall = np.hstack(concat_vsall)\n",
    "Vext = np.concatenate(concat_Vext, axis=2)"
   ]
  },
  {
   "cell_type": "code",
   "execution_count": null,
   "id": "ff2b8cec",
   "metadata": {},
   "outputs": [],
   "source": [
    "fig, ax = plt.subplots(ncols=2, figsize=(15, 5))\n",
    "q = 0\n",
    "n = 0\n",
    "T = np.linspace(-500, 500, 1000)\n",
    "for i in range(0, vsall.shape[1], 1000):\n",
    "    v = np.nan_to_num(vsall[:,i-500:i+500])\n",
    "    if v.shape[1] == 1000:\n",
    "        q = q + v\n",
    "        n = n + 1\n",
    "        ax[0].plot(T, v.mean(0), color='black', alpha=0.1)\n",
    "q = q / n\n",
    "ax[0].plot(T, q.mean(0), color='black')\n",
    "ax[0].plot(T, q[7], color='#00FF7F')\n",
    "ax[0].plot(T, q[410], color='#FF7F00')\n",
    "ax[0].axvline(0, color='black')\n",
    "q = 0\n",
    "n = 0\n",
    "T = np.linspace(-500, 500, 200)\n",
    "for i in range(0, Vext.shape[2], 200):\n",
    "    v = np.nan_to_num(Vext[:,:,i-100:i+100])\n",
    "    if v.shape[2] == 200:\n",
    "        q = q + v\n",
    "        n = n + 1\n",
    "        plt.plot(T, v.mean(0).mean(0), color='black', alpha=0.1)\n",
    "q = q / n\n",
    "plt.plot(T, q.mean(0).mean(0), color='black')\n",
    "ax[1].plot(T, q[2,3], color='#00FF7F')\n",
    "ax[1].plot(T, q[5,3], color='#FF7F00')\n",
    "ax[1].axvline(0, color='black')\n",
    "\n",
    "ax[0].set_title('Vsoma')\n",
    "ax[1].set_title('LFP')"
   ]
  },
  {
   "cell_type": "code",
   "execution_count": null,
   "id": "43dbb108",
   "metadata": {},
   "outputs": [],
   "source": [
    "plt.figure(figsize=(16, 10))\n",
    "for i in range(len(vsall)):\n",
    "    v = vsall[i]\n",
    "    v = (v - v.mean()) / 10\n",
    "    plt.plot(v + i)\n",
    "    if i > 50:\n",
    "        break"
   ]
  },
  {
   "cell_type": "code",
   "execution_count": null,
   "id": "4d389e71",
   "metadata": {},
   "outputs": [],
   "source": []
  },
  {
   "cell_type": "code",
   "execution_count": null,
   "id": "fc88ece6",
   "metadata": {},
   "outputs": [],
   "source": []
  }
 ],
 "metadata": {
  "kernelspec": {
   "display_name": "Python 3 (ipykernel)",
   "language": "python",
   "name": "python3"
  },
  "language_info": {
   "codemirror_mode": {
    "name": "ipython",
    "version": 3
   },
   "file_extension": ".py",
   "mimetype": "text/x-python",
   "name": "python",
   "nbconvert_exporter": "python",
   "pygments_lexer": "ipython3",
   "version": "3.8.10"
  }
 },
 "nbformat": 4,
 "nbformat_minor": 5
}
